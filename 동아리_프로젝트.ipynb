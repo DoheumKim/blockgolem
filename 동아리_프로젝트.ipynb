{
  "nbformat": 4,
  "nbformat_minor": 0,
  "metadata": {
    "colab": {
      "name": "동아리 프로젝트",
      "provenance": [],
      "collapsed_sections": [],
      "include_colab_link": true
    },
    "kernelspec": {
      "name": "python3",
      "display_name": "Python 3"
    },
    "language_info": {
      "name": "python"
    }
  },
  "cells": [
    {
      "cell_type": "markdown",
      "metadata": {
        "id": "view-in-github",
        "colab_type": "text"
      },
      "source": [
        "<a href=\"https://colab.research.google.com/github/blockgolem/blockgolem/blob/main/%EB%8F%99%EC%95%84%EB%A6%AC_%ED%94%84%EB%A1%9C%EC%A0%9D%ED%8A%B8.ipynb\" target=\"_parent\"><img src=\"https://colab.research.google.com/assets/colab-badge.svg\" alt=\"Open In Colab\"/></a>"
      ]
    },
    {
      "cell_type": "code",
      "source": [
        "#n제곱/n제곱근 계산\n",
        "\n",
        "import math\n",
        "\n",
        "\n",
        "select = float(input('제곱계산은 1, 제곱근 계산은 2를 입력해 주세요: ' ))\n",
        "\n",
        "if select == 1:\n",
        "  n1 = float(input('수: '))\n",
        "  pow = float(input('제곱: '))\n",
        "  print(round(math.pow(n1,pow)))  #round == 반올림 해주는거\n",
        "\n",
        "elif select == 2:\n",
        "  n2 = float(input('수: '))\n",
        "  sqrt = float(input('제곱근: '))\n",
        "  print(round(n2 ** (1/sqrt)))\n",
        "else:\n",
        "    print('다시 입력해 주세요')"
      ],
      "metadata": {
        "id": "CFllP_0JU7R7",
        "colab": {
          "base_uri": "https://localhost:8080/"
        },
        "outputId": "c290d06b-31d6-43c4-e885-e176ea628af3"
      },
      "execution_count": null,
      "outputs": [
        {
          "output_type": "stream",
          "name": "stdout",
          "text": [
            "제곱계산은 1, 제곱근 계산은 2를 입력해 주세요: 2\n",
            "수: 4\n",
            "제곱근: 2\n",
            "2\n"
          ]
        }
      ]
    },
    {
      "cell_type": "markdown",
      "source": [
        "#유용한 거"
      ],
      "metadata": {
        "id": "A5Y4ux5hHTkD"
      }
    },
    {
      "cell_type": "markdown",
      "source": [
        "https://opentutorials.org/module/2980/17973   #계산기만들기"
      ],
      "metadata": {
        "id": "t99CH4jw9cgc"
      }
    },
    {
      "cell_type": "markdown",
      "source": [
        "https://m.blog.naver.com/sisosw/221412034474    #tkinter 버튼 배치"
      ],
      "metadata": {
        "id": "JRjmDeZrH9IU"
      }
    },
    {
      "cell_type": "markdown",
      "source": [
        "https://youtu.be/s8CdkSRnU1k  #디자인"
      ],
      "metadata": {
        "id": "L9kJbckMHafc"
      }
    },
    {
      "cell_type": "markdown",
      "source": [
        "https://076923.github.io/posts/Python-tkinter-4/ # tkinter 모든 설명 "
      ],
      "metadata": {
        "id": "y9dpMSmxh7A-"
      }
    },
    {
      "cell_type": "markdown",
      "source": [
        "# Calculator only"
      ],
      "metadata": {
        "id": "mjN0qoolb8fi"
      }
    },
    {
      "cell_type": "code",
      "source": [
        "#n제곱/n제곱근 계산\n",
        "\n",
        "import math\n",
        "\n",
        "\n",
        "select = float(input('제곱계산은 1, 제곱근 계산은 2를 입력해 주세요: ' ))\n",
        "\n",
        "if select == 1:\n",
        "  n1 = float(input('수: '))\n",
        "  pow = float(input('제곱: '))\n",
        "  print(round(math.pow(n1,pow)))  #round == 반올림 해주는거\n",
        "\n",
        "elif select == 2:\n",
        "  n2 = float(input('수: '))\n",
        "  sqrt = float(input('제곱근: '))\n",
        "  print(round(n2 ** (1/sqrt)))\n",
        "else:\n",
        "    print('다시 입력해 주세요')"
      ],
      "metadata": {
        "id": "BqCB747JdxYi",
        "outputId": "7cc5b50e-cae9-43f8-bc1c-72641d7f1395",
        "colab": {
          "base_uri": "https://localhost:8080/"
        }
      },
      "execution_count": null,
      "outputs": [
        {
          "output_type": "stream",
          "name": "stdout",
          "text": [
            "제곱계산은 1, 제곱근 계산은 2를 입력해 주세요: 1\n",
            "수: 2\n",
            "제곱: 3\n",
            "8\n"
          ]
        }
      ]
    },
    {
      "cell_type": "markdown",
      "source": [
        "# GUI only\n"
      ],
      "metadata": {
        "id": "nd2f-R_ibs6p"
      }
    },
    {
      "cell_type": "code",
      "source": [
        "#GUI, 실행안됨\n",
        "from tkinter import *\n",
        "\n",
        "\n",
        "cal=Tk()\n",
        "cal.title(\"계산기\")\n",
        "cal.geometry('320x470')\n",
        "cal.resizable(True, True)\n",
        "cal.option_add('*Font','맑은고딕 30')\n",
        "btn = Button(cal,text = '1')\n",
        "btn.pack()\n",
        "cal.mainloop()"
      ],
      "metadata": {
        "id": "GEKsVHnQd3h8"
      },
      "execution_count": null,
      "outputs": []
    },
    {
      "cell_type": "code",
      "source": [
        "### GUI Button Setting _ place method ###\n",
        "\n",
        "# 창 생성 \n",
        "from tkinter import*\n",
        "win = Tk()\n",
        "win.geometry('400x600')\n",
        "win.title('계산기')\n",
        "win.option_add('*Font', '맑은고딕 40')\n",
        "win.config(bg='#17161b') # 백그라운드 색상 \n",
        "\n",
        "# 라벨 생성(숫자, 결과 보이는 곳)\n",
        "label_result = Label(win,width=25,height=1,text='')\n",
        "label_result.pack()\n",
        "\n",
        "# 버튼 정의 \n",
        "button_1 = Button(win, text='1')\n",
        "button_2 = Button(win, text='2')\n",
        "button_3 = Button(win, text='3')\n",
        "button_4 = Button(win, text='4')\n",
        "button_5 = Button(win, text='5')\n",
        "button_6 = Button(win, text='6')\n",
        "button_7 = Button(win, text='7')\n",
        "button_8 = Button(win, text='8')\n",
        "button_9 = Button(win, text='9')\n",
        "button_0 = Button(win, text='0', width=4)\n",
        "button_clear = Button(win, text='c')\n",
        "button_div = Button(win, text='/')\n",
        "button_plus = Button(win, text='+', height=3)\n",
        "button_minus = Button(win, text='-')\n",
        "button_mul = Button(win, text='x')\n",
        "button_equal = Button(win, text='=', height=3)\n",
        "button_dot = Button(win, text='.')\n",
        "\n",
        "# 버튼 배치 \n",
        "\n",
        "\n",
        "button_1.place(x=10,y=400)\n",
        "button_2.place(x=90,y=400)\n",
        "button_3.place(x=170,y=400)\n",
        "button_4.place(x=10,y=300)\n",
        "button_5.place(x=90,y=300)\n",
        "button_6.place(x=170,y=300)\n",
        "button_7.place(x=10,y=200)\n",
        "button_8.place(x=90,y=200)\n",
        "button_9.place(x=170,y=200)\n",
        "button_0.place(x=10,y=500)\n",
        "\n",
        "button_clear.place(x=10,y=100)\n",
        "button_div.place(x=90,y=100)\n",
        "button_plus.place(x=250,y=200)\n",
        "button_minus.place(x=250,y=100)\n",
        "button_mul.place(x=170,y=100)\n",
        "button_equal.place(x=250,y=400)\n",
        "button_dot.place(x=170,y=500)"
      ],
      "metadata": {
        "id": "iT9gx0XBd8Db"
      },
      "execution_count": null,
      "outputs": []
    },
    {
      "cell_type": "code",
      "source": [
        "### GUI Button Setting _ grid method ###\n",
        "\n",
        "# 창 생성 \n",
        "from tkinter import*\n",
        "win = Tk()\n",
        "win.geometry('200x290')\n",
        "win.title('계산기')\n",
        "win.option_add('*Font', '맑은고딕 25')\n",
        "win.config(bg='#17161b') # 백그라운드 색상 \n",
        "\n",
        "# 라벨 생성(숫자, 결과 보이는 곳)\n",
        "\n",
        "\n",
        "# 버튼 정의 \n",
        "button_1 = Button(win, text='1')\n",
        "button_2 = Button(win, text='2')\n",
        "button_3 = Button(win, text='3')\n",
        "button_4 = Button(win, text='4')\n",
        "button_5 = Button(win, text='5')\n",
        "button_6 = Button(win, text='6')\n",
        "button_7 = Button(win, text='7')\n",
        "button_8 = Button(win, text='8')\n",
        "button_9 = Button(win, text='9')\n",
        "button_0 = Button(win, text='0')\n",
        "\n",
        "button_clear = Button(win, text='c')\n",
        "button_div = Button(win, text='/')\n",
        "button_plus = Button(win, text='+')\n",
        "button_minus = Button(win, text='-')\n",
        "button_mul = Button(win, text='x')\n",
        "button_equal = Button(win, text='=')\n",
        "button_dot = Button(win, text='.')\n",
        "\n",
        "# 버튼 배치 \n",
        "button_1.grid(row=3,column=0)\n",
        "button_2.grid(row=3,column=1)\n",
        "button_3.grid(row=3,column=2)\n",
        "button_4.grid(row=2,column=0)\n",
        "button_5.grid(row=2,column=1)\n",
        "button_6.grid(row=2,column=2)\n",
        "button_7.grid(row=1,column=0)\n",
        "button_8.grid(row=1,column=1)\n",
        "button_9.grid(row=1,column=2)\n",
        "button_0.grid(row=4,column=0,columnspan=2,sticky=W+E+N+S)\n",
        "\n",
        "button_clear.grid(row=0,column=0)\n",
        "button_div.grid(row=0,column=1,sticky=W+E+N+S)\n",
        "button_mul.grid(row=0,column=2,sticky=W+E+N+S)\n",
        "button_minus.grid(row=0,column=3)\n",
        "button_plus.grid(row=1,column=3,rowspan=2,sticky=W+E+N+S)\n",
        "button_equal.grid(row=3,column=3,rowspan=3,sticky=W+E+N+S)\n",
        "button_dot.grid(row=4,column=2,sticky=W+E+N+S)"
      ],
      "metadata": {
        "id": "iF78xI-zeja-"
      },
      "execution_count": null,
      "outputs": []
    },
    {
      "cell_type": "code",
      "source": [
        "from tkinter import*\n",
        "from tkinter import ttk\n",
        "# 창 생성 \n",
        "\n",
        "win = Tk()\n",
        "win.geometry('200x330')\n",
        "win.title('계산기')\n",
        "win.option_add('*Font', '맑은고딕 25')\n",
        "win.config(bg='#17161b') # 백그라운드 색상 \n",
        "\n",
        "#label = Label(win,text = '라벨테스트', font = ('맑은고딕',10))\n",
        "# 라벨 생성(숫자, 결과 보이는 곳)\n",
        "\n",
        "\n",
        "# 버튼 정의 \n",
        "button_1 = Button(win, text='1')\n",
        "button_2 = Button(win, text='2')\n",
        "button_3 = Button(win, text='3')\n",
        "button_4 = Button(win, text='4')\n",
        "button_5 = Button(win, text='5')\n",
        "button_6 = Button(win, text='6')\n",
        "button_7 = Button(win, text='7')\n",
        "button_8 = Button(win, text='8')\n",
        "button_9 = Button(win, text='9')\n",
        "button_0 = Button(win, text='0')\n",
        "\n",
        "button_clear = Button(win, text='c')\n",
        "button_div = Button(win, text='/')\n",
        "button_plus = Button(win, text='+')\n",
        "button_minus = Button(win, text='-')\n",
        "button_mul = Button(win, text='x')\n",
        "button_equal = Button(win, text='=')\n",
        "button_dot = Button(win, text='.')\n",
        "\n",
        "# 버튼 배치 \n",
        "num = ttk.Entry(win,width = 10)\n",
        "num.grid(row = 0, column = 0,columnspan= 10,sticky=W+N+E)\n",
        "\n",
        "button_1.grid(row=4,column=1)\n",
        "button_2.grid(row=4,column=2)\n",
        "button_3.grid(row=4,column=3)\n",
        "button_4.grid(row=3,column=1)\n",
        "button_5.grid(row=3,column=2)\n",
        "button_6.grid(row=3,column=3)\n",
        "button_7.grid(row=2,column=1)\n",
        "button_8.grid(row=2,column=2)\n",
        "button_9.grid(row=2,column=3)\n",
        "button_0.grid(row=5,column=1,columnspan=2,sticky=W+E+N+S)\n",
        "\n",
        "button_clear.grid(row=1,column=1)\n",
        "button_div.grid(row=1,column=2,sticky=W+E+N+S)\n",
        "button_mul.grid(row=1,column=3,sticky=W+E+N+S)\n",
        "button_minus.grid(row=1,column=4)\n",
        "button_plus.grid(row=2,column=4,rowspan=2,sticky=W+E+N+S)\n",
        "button_equal.grid(row=4,column=4,rowspan=3,sticky=W+E+N+S)\n",
        "button_dot.grid(row=5,column=3,sticky=W+E+N+S)\n",
        "\n",
        "win.mainloop()\n"
      ],
      "metadata": {
        "id": "_OjHV2h8zOQu"
      },
      "execution_count": null,
      "outputs": []
    },
    {
      "cell_type": "code",
      "source": [
        "# ver 1.0\n",
        "# 추가/수정 부분\n",
        "'''\n",
        "- 숫자입력 기능 추가\n",
        "- clear 삭제 기능 추가 \n",
        "- label 정의 부분에서 column=0 삭제\n",
        "- div 기호 /에서 ÷로 변경 \n",
        "- div 정의 부분에서 width=1 추가 (÷버튼 크기 버그에 의한 수정)\n",
        "'''\n",
        "\n",
        "\n",
        "from tkinter import*\n",
        "from tkinter import ttk\n",
        "\n",
        "# 창 생성 \n",
        "win = Tk()\n",
        "win.geometry('200x330')\n",
        "win.title('계산기')\n",
        "win.option_add('*Font', '맑은고딕 25')\n",
        "win.config(bg='#17161b') # 백그라운드 색상 \n",
        "\n",
        "#label = Label(win,text = '라벨테스트', font = ('맑은고딕',10))\n",
        "# 라벨 생성(숫자, 결과 보이는 곳)\n",
        "\n",
        "# 함수 \n",
        "def button_pressed(value):\n",
        "    num.insert('end',value)\n",
        "    print(value)\n",
        "\n",
        "'''def math_button_pressed(value):\n",
        "    print()\n",
        "     \n",
        "def equal_button_pressed():\n",
        "    print()'''\n",
        "\n",
        "def clear_button_pressed():\n",
        "    num.delete(0,END) #모든 글자 삭제 \n",
        "    #num.delete(num.index(\"end\") - 1) 한글자씩 삭제\n",
        "\n",
        "    \n",
        "# 버튼 정의 \n",
        "button_1 = Button(win, text='1', command = lambda:button_pressed('1'))    \n",
        "button_2 = Button(win, text='2', command = lambda:button_pressed('2'))\n",
        "button_3 = Button(win, text='3', command = lambda:button_pressed('3'))\n",
        "button_4 = Button(win, text='4', command = lambda:button_pressed('4'))\n",
        "button_5 = Button(win, text='5', command = lambda:button_pressed('5'))\n",
        "button_6 = Button(win, text='6', command = lambda:button_pressed('6'))\n",
        "button_7 = Button(win, text='7', command = lambda:button_pressed('7'))\n",
        "button_8 = Button(win, text='8', command = lambda:button_pressed('8'))\n",
        "button_9 = Button(win, text='9', command = lambda:button_pressed('9'))\n",
        "button_0 = Button(win, text='0', command = lambda:button_pressed('0'))\n",
        "\n",
        "button_div = Button(win, text='÷',width=1, command = lambda:math_button_pressed('÷'))\n",
        "button_plus = Button(win, text='+', command = lambda:math_button_pressed('+'))\n",
        "button_minus = Button(win, text='-', command = lambda:math_button_pressed('-'))\n",
        "button_mul = Button(win, text='x', command = lambda:math_button_pressed('x'))\n",
        "button_dot = Button(win, text='.', command = lambda:math_button_pressed(''))\n",
        "button_equal = Button(win, text='=', command = lambda:equal_button_pressed('='))\n",
        "button_clear = Button(win, text='c', command = lambda:clear_button_pressed())\n",
        "\n",
        "# 버튼 배치 \n",
        "num = ttk.Entry(win,width=10)\n",
        "num.grid(row = 0,columnspan=10,sticky=W+N+E)\n",
        "\n",
        "button_1.grid(row=4,column=1)\n",
        "button_2.grid(row=4,column=2)\n",
        "button_3.grid(row=4,column=3)\n",
        "button_4.grid(row=3,column=1)\n",
        "button_5.grid(row=3,column=2)\n",
        "button_6.grid(row=3,column=3)\n",
        "button_7.grid(row=2,column=1)\n",
        "button_8.grid(row=2,column=2)\n",
        "button_9.grid(row=2,column=3)\n",
        "button_0.grid(row=5,column=1,columnspan=2,sticky=W+E+N+S)\n",
        "\n",
        "button_clear.grid(row=1,column=1,sticky=W+E+N+S)\n",
        "button_div.grid(row=1,column=2,sticky=W+E+N+S)\n",
        "button_mul.grid(row=1,column=3,sticky=W+E+N+S)\n",
        "button_minus.grid(row=1,column=4,sticky=W+E+N+S)\n",
        "button_plus.grid(row=2,column=4,rowspan=2,sticky=W+E+N+S)\n",
        "button_equal.grid(row=4,column=4,rowspan=3,sticky=W+E+N+S)\n",
        "button_dot.grid(row=5,column=3,sticky=W+E+N+S)\n",
        "\n",
        "win.mainloop()"
      ],
      "metadata": {
        "id": "L0bDMc4nkDaB"
      },
      "execution_count": null,
      "outputs": []
    }
  ]
}